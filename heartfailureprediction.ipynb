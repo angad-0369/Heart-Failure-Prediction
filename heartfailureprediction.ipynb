{
 "cells": [
  {
   "cell_type": "raw",
   "id": "1cbfad6b",
   "metadata": {
    "papermill": {
     "duration": 0.031087,
     "end_time": "2022-05-24T19:35:30.290972",
     "exception": false,
     "start_time": "2022-05-24T19:35:30.259885",
     "status": "completed"
    },
    "tags": []
   },
   "source": []
  },
  {
   "cell_type": "code",
   "execution_count": 1,
   "id": "f3c453c9",
   "metadata": {
    "_cell_guid": "b1076dfc-b9ad-4769-8c92-a6c4dae69d19",
    "_uuid": "8f2839f25d086af736a60e9eeb907d3b93b6e0e5",
    "execution": {
     "iopub.execute_input": "2022-05-24T19:35:30.354359Z",
     "iopub.status.busy": "2022-05-24T19:35:30.354035Z",
     "iopub.status.idle": "2022-05-24T19:35:30.370551Z",
     "shell.execute_reply": "2022-05-24T19:35:30.369835Z"
    },
    "papermill": {
     "duration": 0.05129,
     "end_time": "2022-05-24T19:35:30.372672",
     "exception": false,
     "start_time": "2022-05-24T19:35:30.321382",
     "status": "completed"
    },
    "tags": []
   },
   "outputs": [
    {
     "name": "stdout",
     "output_type": "stream",
     "text": [
      "/kaggle/input/heart-failure-clinical-data/heart_failure_clinical_records_dataset.csv\n"
     ]
    }
   ],
   "source": [
    "# This Python 3 environment comes with many helpful analytics libraries installed\n",
    "# It is defined by the kaggle/python Docker image: https://github.com/kaggle/docker-python\n",
    "# For example, here's several helpful packages to load\n",
    "\n",
    "import numpy as np # linear algebra\n",
    "import pandas as pd # data processing, CSV file I/O (e.g. pd.read_csv)\n",
    "\n",
    "# Input data files are available in the read-only \"../input/\" directory\n",
    "# For example, running this (by clicking run or pressing Shift+Enter) will list all files under the input directory\n",
    "\n",
    "import os\n",
    "for dirname, _, filenames in os.walk('/kaggle/input'):\n",
    "    for filename in filenames:\n",
    "        print(os.path.join(dirname, filename))\n",
    "\n",
    "# You can write up to 20GB to the current directory (/kaggle/working/) that gets preserved as output when you create a version using \"Save & Run All\" \n",
    "# You can also write temporary files to /kaggle/temp/, but they won't be saved outside of the current session"
   ]
  },
  {
   "cell_type": "code",
   "execution_count": 2,
   "id": "50fb0030",
   "metadata": {
    "execution": {
     "iopub.execute_input": "2022-05-24T19:35:30.437034Z",
     "iopub.status.busy": "2022-05-24T19:35:30.436601Z",
     "iopub.status.idle": "2022-05-24T19:35:30.481191Z",
     "shell.execute_reply": "2022-05-24T19:35:30.480000Z"
    },
    "papermill": {
     "duration": 0.079732,
     "end_time": "2022-05-24T19:35:30.483101",
     "exception": false,
     "start_time": "2022-05-24T19:35:30.403369",
     "status": "completed"
    },
    "tags": []
   },
   "outputs": [
    {
     "data": {
      "text/html": [
       "<div>\n",
       "<style scoped>\n",
       "    .dataframe tbody tr th:only-of-type {\n",
       "        vertical-align: middle;\n",
       "    }\n",
       "\n",
       "    .dataframe tbody tr th {\n",
       "        vertical-align: top;\n",
       "    }\n",
       "\n",
       "    .dataframe thead th {\n",
       "        text-align: right;\n",
       "    }\n",
       "</style>\n",
       "<table border=\"1\" class=\"dataframe\">\n",
       "  <thead>\n",
       "    <tr style=\"text-align: right;\">\n",
       "      <th></th>\n",
       "      <th>age</th>\n",
       "      <th>anaemia</th>\n",
       "      <th>creatinine_phosphokinase</th>\n",
       "      <th>diabetes</th>\n",
       "      <th>ejection_fraction</th>\n",
       "      <th>high_blood_pressure</th>\n",
       "      <th>platelets</th>\n",
       "      <th>serum_creatinine</th>\n",
       "      <th>serum_sodium</th>\n",
       "      <th>sex</th>\n",
       "      <th>smoking</th>\n",
       "      <th>time</th>\n",
       "      <th>DEATH_EVENT</th>\n",
       "    </tr>\n",
       "  </thead>\n",
       "  <tbody>\n",
       "    <tr>\n",
       "      <th>0</th>\n",
       "      <td>75.0</td>\n",
       "      <td>0</td>\n",
       "      <td>582</td>\n",
       "      <td>0</td>\n",
       "      <td>20</td>\n",
       "      <td>1</td>\n",
       "      <td>265000.00</td>\n",
       "      <td>1.9</td>\n",
       "      <td>130</td>\n",
       "      <td>1</td>\n",
       "      <td>0</td>\n",
       "      <td>4</td>\n",
       "      <td>1</td>\n",
       "    </tr>\n",
       "    <tr>\n",
       "      <th>1</th>\n",
       "      <td>55.0</td>\n",
       "      <td>0</td>\n",
       "      <td>7861</td>\n",
       "      <td>0</td>\n",
       "      <td>38</td>\n",
       "      <td>0</td>\n",
       "      <td>263358.03</td>\n",
       "      <td>1.1</td>\n",
       "      <td>136</td>\n",
       "      <td>1</td>\n",
       "      <td>0</td>\n",
       "      <td>6</td>\n",
       "      <td>1</td>\n",
       "    </tr>\n",
       "    <tr>\n",
       "      <th>2</th>\n",
       "      <td>65.0</td>\n",
       "      <td>0</td>\n",
       "      <td>146</td>\n",
       "      <td>0</td>\n",
       "      <td>20</td>\n",
       "      <td>0</td>\n",
       "      <td>162000.00</td>\n",
       "      <td>1.3</td>\n",
       "      <td>129</td>\n",
       "      <td>1</td>\n",
       "      <td>1</td>\n",
       "      <td>7</td>\n",
       "      <td>1</td>\n",
       "    </tr>\n",
       "    <tr>\n",
       "      <th>3</th>\n",
       "      <td>50.0</td>\n",
       "      <td>1</td>\n",
       "      <td>111</td>\n",
       "      <td>0</td>\n",
       "      <td>20</td>\n",
       "      <td>0</td>\n",
       "      <td>210000.00</td>\n",
       "      <td>1.9</td>\n",
       "      <td>137</td>\n",
       "      <td>1</td>\n",
       "      <td>0</td>\n",
       "      <td>7</td>\n",
       "      <td>1</td>\n",
       "    </tr>\n",
       "    <tr>\n",
       "      <th>4</th>\n",
       "      <td>65.0</td>\n",
       "      <td>1</td>\n",
       "      <td>160</td>\n",
       "      <td>1</td>\n",
       "      <td>20</td>\n",
       "      <td>0</td>\n",
       "      <td>327000.00</td>\n",
       "      <td>2.7</td>\n",
       "      <td>116</td>\n",
       "      <td>0</td>\n",
       "      <td>0</td>\n",
       "      <td>8</td>\n",
       "      <td>1</td>\n",
       "    </tr>\n",
       "  </tbody>\n",
       "</table>\n",
       "</div>"
      ],
      "text/plain": [
       "    age  anaemia  creatinine_phosphokinase  diabetes  ejection_fraction  \\\n",
       "0  75.0        0                       582         0                 20   \n",
       "1  55.0        0                      7861         0                 38   \n",
       "2  65.0        0                       146         0                 20   \n",
       "3  50.0        1                       111         0                 20   \n",
       "4  65.0        1                       160         1                 20   \n",
       "\n",
       "   high_blood_pressure  platelets  serum_creatinine  serum_sodium  sex  \\\n",
       "0                    1  265000.00               1.9           130    1   \n",
       "1                    0  263358.03               1.1           136    1   \n",
       "2                    0  162000.00               1.3           129    1   \n",
       "3                    0  210000.00               1.9           137    1   \n",
       "4                    0  327000.00               2.7           116    0   \n",
       "\n",
       "   smoking  time  DEATH_EVENT  \n",
       "0        0     4            1  \n",
       "1        0     6            1  \n",
       "2        1     7            1  \n",
       "3        0     7            1  \n",
       "4        0     8            1  "
      ]
     },
     "execution_count": 2,
     "metadata": {},
     "output_type": "execute_result"
    }
   ],
   "source": [
    "df=pd.read_csv('../input/heart-failure-clinical-data/heart_failure_clinical_records_dataset.csv')\n",
    "df.head()"
   ]
  },
  {
   "cell_type": "code",
   "execution_count": 3,
   "id": "d48813fb",
   "metadata": {
    "execution": {
     "iopub.execute_input": "2022-05-24T19:35:30.546995Z",
     "iopub.status.busy": "2022-05-24T19:35:30.546557Z",
     "iopub.status.idle": "2022-05-24T19:35:30.606383Z",
     "shell.execute_reply": "2022-05-24T19:35:30.605026Z"
    },
    "papermill": {
     "duration": 0.094354,
     "end_time": "2022-05-24T19:35:30.608578",
     "exception": false,
     "start_time": "2022-05-24T19:35:30.514224",
     "status": "completed"
    },
    "tags": []
   },
   "outputs": [
    {
     "data": {
      "text/html": [
       "<div>\n",
       "<style scoped>\n",
       "    .dataframe tbody tr th:only-of-type {\n",
       "        vertical-align: middle;\n",
       "    }\n",
       "\n",
       "    .dataframe tbody tr th {\n",
       "        vertical-align: top;\n",
       "    }\n",
       "\n",
       "    .dataframe thead th {\n",
       "        text-align: right;\n",
       "    }\n",
       "</style>\n",
       "<table border=\"1\" class=\"dataframe\">\n",
       "  <thead>\n",
       "    <tr style=\"text-align: right;\">\n",
       "      <th></th>\n",
       "      <th>age</th>\n",
       "      <th>anaemia</th>\n",
       "      <th>creatinine_phosphokinase</th>\n",
       "      <th>diabetes</th>\n",
       "      <th>ejection_fraction</th>\n",
       "      <th>high_blood_pressure</th>\n",
       "      <th>platelets</th>\n",
       "      <th>serum_creatinine</th>\n",
       "      <th>serum_sodium</th>\n",
       "      <th>sex</th>\n",
       "      <th>smoking</th>\n",
       "      <th>time</th>\n",
       "      <th>DEATH_EVENT</th>\n",
       "    </tr>\n",
       "  </thead>\n",
       "  <tbody>\n",
       "    <tr>\n",
       "      <th>count</th>\n",
       "      <td>299.000000</td>\n",
       "      <td>299.000000</td>\n",
       "      <td>299.000000</td>\n",
       "      <td>299.000000</td>\n",
       "      <td>299.000000</td>\n",
       "      <td>299.000000</td>\n",
       "      <td>299.000000</td>\n",
       "      <td>299.00000</td>\n",
       "      <td>299.000000</td>\n",
       "      <td>299.000000</td>\n",
       "      <td>299.00000</td>\n",
       "      <td>299.000000</td>\n",
       "      <td>299.00000</td>\n",
       "    </tr>\n",
       "    <tr>\n",
       "      <th>mean</th>\n",
       "      <td>60.833893</td>\n",
       "      <td>0.431438</td>\n",
       "      <td>581.839465</td>\n",
       "      <td>0.418060</td>\n",
       "      <td>38.083612</td>\n",
       "      <td>0.351171</td>\n",
       "      <td>263358.029264</td>\n",
       "      <td>1.39388</td>\n",
       "      <td>136.625418</td>\n",
       "      <td>0.648829</td>\n",
       "      <td>0.32107</td>\n",
       "      <td>130.260870</td>\n",
       "      <td>0.32107</td>\n",
       "    </tr>\n",
       "    <tr>\n",
       "      <th>std</th>\n",
       "      <td>11.894809</td>\n",
       "      <td>0.496107</td>\n",
       "      <td>970.287881</td>\n",
       "      <td>0.494067</td>\n",
       "      <td>11.834841</td>\n",
       "      <td>0.478136</td>\n",
       "      <td>97804.236869</td>\n",
       "      <td>1.03451</td>\n",
       "      <td>4.412477</td>\n",
       "      <td>0.478136</td>\n",
       "      <td>0.46767</td>\n",
       "      <td>77.614208</td>\n",
       "      <td>0.46767</td>\n",
       "    </tr>\n",
       "    <tr>\n",
       "      <th>min</th>\n",
       "      <td>40.000000</td>\n",
       "      <td>0.000000</td>\n",
       "      <td>23.000000</td>\n",
       "      <td>0.000000</td>\n",
       "      <td>14.000000</td>\n",
       "      <td>0.000000</td>\n",
       "      <td>25100.000000</td>\n",
       "      <td>0.50000</td>\n",
       "      <td>113.000000</td>\n",
       "      <td>0.000000</td>\n",
       "      <td>0.00000</td>\n",
       "      <td>4.000000</td>\n",
       "      <td>0.00000</td>\n",
       "    </tr>\n",
       "    <tr>\n",
       "      <th>25%</th>\n",
       "      <td>51.000000</td>\n",
       "      <td>0.000000</td>\n",
       "      <td>116.500000</td>\n",
       "      <td>0.000000</td>\n",
       "      <td>30.000000</td>\n",
       "      <td>0.000000</td>\n",
       "      <td>212500.000000</td>\n",
       "      <td>0.90000</td>\n",
       "      <td>134.000000</td>\n",
       "      <td>0.000000</td>\n",
       "      <td>0.00000</td>\n",
       "      <td>73.000000</td>\n",
       "      <td>0.00000</td>\n",
       "    </tr>\n",
       "    <tr>\n",
       "      <th>50%</th>\n",
       "      <td>60.000000</td>\n",
       "      <td>0.000000</td>\n",
       "      <td>250.000000</td>\n",
       "      <td>0.000000</td>\n",
       "      <td>38.000000</td>\n",
       "      <td>0.000000</td>\n",
       "      <td>262000.000000</td>\n",
       "      <td>1.10000</td>\n",
       "      <td>137.000000</td>\n",
       "      <td>1.000000</td>\n",
       "      <td>0.00000</td>\n",
       "      <td>115.000000</td>\n",
       "      <td>0.00000</td>\n",
       "    </tr>\n",
       "    <tr>\n",
       "      <th>75%</th>\n",
       "      <td>70.000000</td>\n",
       "      <td>1.000000</td>\n",
       "      <td>582.000000</td>\n",
       "      <td>1.000000</td>\n",
       "      <td>45.000000</td>\n",
       "      <td>1.000000</td>\n",
       "      <td>303500.000000</td>\n",
       "      <td>1.40000</td>\n",
       "      <td>140.000000</td>\n",
       "      <td>1.000000</td>\n",
       "      <td>1.00000</td>\n",
       "      <td>203.000000</td>\n",
       "      <td>1.00000</td>\n",
       "    </tr>\n",
       "    <tr>\n",
       "      <th>max</th>\n",
       "      <td>95.000000</td>\n",
       "      <td>1.000000</td>\n",
       "      <td>7861.000000</td>\n",
       "      <td>1.000000</td>\n",
       "      <td>80.000000</td>\n",
       "      <td>1.000000</td>\n",
       "      <td>850000.000000</td>\n",
       "      <td>9.40000</td>\n",
       "      <td>148.000000</td>\n",
       "      <td>1.000000</td>\n",
       "      <td>1.00000</td>\n",
       "      <td>285.000000</td>\n",
       "      <td>1.00000</td>\n",
       "    </tr>\n",
       "  </tbody>\n",
       "</table>\n",
       "</div>"
      ],
      "text/plain": [
       "              age     anaemia  creatinine_phosphokinase    diabetes  \\\n",
       "count  299.000000  299.000000                299.000000  299.000000   \n",
       "mean    60.833893    0.431438                581.839465    0.418060   \n",
       "std     11.894809    0.496107                970.287881    0.494067   \n",
       "min     40.000000    0.000000                 23.000000    0.000000   \n",
       "25%     51.000000    0.000000                116.500000    0.000000   \n",
       "50%     60.000000    0.000000                250.000000    0.000000   \n",
       "75%     70.000000    1.000000                582.000000    1.000000   \n",
       "max     95.000000    1.000000               7861.000000    1.000000   \n",
       "\n",
       "       ejection_fraction  high_blood_pressure      platelets  \\\n",
       "count         299.000000           299.000000     299.000000   \n",
       "mean           38.083612             0.351171  263358.029264   \n",
       "std            11.834841             0.478136   97804.236869   \n",
       "min            14.000000             0.000000   25100.000000   \n",
       "25%            30.000000             0.000000  212500.000000   \n",
       "50%            38.000000             0.000000  262000.000000   \n",
       "75%            45.000000             1.000000  303500.000000   \n",
       "max            80.000000             1.000000  850000.000000   \n",
       "\n",
       "       serum_creatinine  serum_sodium         sex    smoking        time  \\\n",
       "count         299.00000    299.000000  299.000000  299.00000  299.000000   \n",
       "mean            1.39388    136.625418    0.648829    0.32107  130.260870   \n",
       "std             1.03451      4.412477    0.478136    0.46767   77.614208   \n",
       "min             0.50000    113.000000    0.000000    0.00000    4.000000   \n",
       "25%             0.90000    134.000000    0.000000    0.00000   73.000000   \n",
       "50%             1.10000    137.000000    1.000000    0.00000  115.000000   \n",
       "75%             1.40000    140.000000    1.000000    1.00000  203.000000   \n",
       "max             9.40000    148.000000    1.000000    1.00000  285.000000   \n",
       "\n",
       "       DEATH_EVENT  \n",
       "count    299.00000  \n",
       "mean       0.32107  \n",
       "std        0.46767  \n",
       "min        0.00000  \n",
       "25%        0.00000  \n",
       "50%        0.00000  \n",
       "75%        1.00000  \n",
       "max        1.00000  "
      ]
     },
     "execution_count": 3,
     "metadata": {},
     "output_type": "execute_result"
    }
   ],
   "source": [
    "df.describe()"
   ]
  },
  {
   "cell_type": "code",
   "execution_count": 4,
   "id": "2e449b48",
   "metadata": {
    "execution": {
     "iopub.execute_input": "2022-05-24T19:35:30.674015Z",
     "iopub.status.busy": "2022-05-24T19:35:30.673549Z",
     "iopub.status.idle": "2022-05-24T19:35:30.689410Z",
     "shell.execute_reply": "2022-05-24T19:35:30.688654Z"
    },
    "papermill": {
     "duration": 0.051476,
     "end_time": "2022-05-24T19:35:30.691930",
     "exception": false,
     "start_time": "2022-05-24T19:35:30.640454",
     "status": "completed"
    },
    "tags": []
   },
   "outputs": [
    {
     "name": "stdout",
     "output_type": "stream",
     "text": [
      "<class 'pandas.core.frame.DataFrame'>\n",
      "RangeIndex: 299 entries, 0 to 298\n",
      "Data columns (total 13 columns):\n",
      " #   Column                    Non-Null Count  Dtype  \n",
      "---  ------                    --------------  -----  \n",
      " 0   age                       299 non-null    float64\n",
      " 1   anaemia                   299 non-null    int64  \n",
      " 2   creatinine_phosphokinase  299 non-null    int64  \n",
      " 3   diabetes                  299 non-null    int64  \n",
      " 4   ejection_fraction         299 non-null    int64  \n",
      " 5   high_blood_pressure       299 non-null    int64  \n",
      " 6   platelets                 299 non-null    float64\n",
      " 7   serum_creatinine          299 non-null    float64\n",
      " 8   serum_sodium              299 non-null    int64  \n",
      " 9   sex                       299 non-null    int64  \n",
      " 10  smoking                   299 non-null    int64  \n",
      " 11  time                      299 non-null    int64  \n",
      " 12  DEATH_EVENT               299 non-null    int64  \n",
      "dtypes: float64(3), int64(10)\n",
      "memory usage: 30.5 KB\n"
     ]
    }
   ],
   "source": [
    "df.info()"
   ]
  },
  {
   "cell_type": "code",
   "execution_count": 5,
   "id": "91dc4d04",
   "metadata": {
    "execution": {
     "iopub.execute_input": "2022-05-24T19:35:30.758987Z",
     "iopub.status.busy": "2022-05-24T19:35:30.758521Z",
     "iopub.status.idle": "2022-05-24T19:35:30.766153Z",
     "shell.execute_reply": "2022-05-24T19:35:30.765447Z"
    },
    "papermill": {
     "duration": 0.043317,
     "end_time": "2022-05-24T19:35:30.768068",
     "exception": false,
     "start_time": "2022-05-24T19:35:30.724751",
     "status": "completed"
    },
    "tags": []
   },
   "outputs": [
    {
     "data": {
      "text/plain": [
       "age                         0\n",
       "anaemia                     0\n",
       "creatinine_phosphokinase    0\n",
       "diabetes                    0\n",
       "ejection_fraction           0\n",
       "high_blood_pressure         0\n",
       "platelets                   0\n",
       "serum_creatinine            0\n",
       "serum_sodium                0\n",
       "sex                         0\n",
       "smoking                     0\n",
       "time                        0\n",
       "DEATH_EVENT                 0\n",
       "dtype: int64"
      ]
     },
     "execution_count": 5,
     "metadata": {},
     "output_type": "execute_result"
    }
   ],
   "source": [
    "df.isnull().sum()"
   ]
  },
  {
   "cell_type": "code",
   "execution_count": 6,
   "id": "0ef8138f",
   "metadata": {
    "execution": {
     "iopub.execute_input": "2022-05-24T19:35:30.834926Z",
     "iopub.status.busy": "2022-05-24T19:35:30.834456Z",
     "iopub.status.idle": "2022-05-24T19:35:32.508461Z",
     "shell.execute_reply": "2022-05-24T19:35:32.507702Z"
    },
    "papermill": {
     "duration": 1.709568,
     "end_time": "2022-05-24T19:35:32.510393",
     "exception": false,
     "start_time": "2022-05-24T19:35:30.800825",
     "status": "completed"
    },
    "tags": []
   },
   "outputs": [
    {
     "data": {
      "image/png": "[encoded data removed]",
      "text/plain": [
       "<Figure size 432x288 with 1 Axes>"
      ]
     },
     "metadata": {
      "needs_background": "light"
     },
     "output_type": "display_data"
    }
   ],
   "source": [
    "import seaborn as sns\n",
    "ax=sns.countplot(y='DEATH_EVENT',data=df)"
   ]
  },
  {
   "cell_type": "code",
   "execution_count": 7,
   "id": "3eaded45",
   "metadata": {
    "execution": {
     "iopub.execute_input": "2022-05-24T19:35:32.582045Z",
     "iopub.status.busy": "2022-05-24T19:35:32.581661Z",
     "iopub.status.idle": "2022-05-24T19:35:32.587758Z",
     "shell.execute_reply": "2022-05-24T19:35:32.586572Z"
    },
    "papermill": {
     "duration": 0.046632,
     "end_time": "2022-05-24T19:35:32.590468",
     "exception": false,
     "start_time": "2022-05-24T19:35:32.543836",
     "status": "completed"
    },
    "tags": []
   },
   "outputs": [],
   "source": [
    "X=df.iloc[:,:-1]\n",
    "y=df.iloc[:,-1]"
   ]
  },
  {
   "cell_type": "code",
   "execution_count": 8,
   "id": "6c5b50bf",
   "metadata": {
    "execution": {
     "iopub.execute_input": "2022-05-24T19:35:32.665377Z",
     "iopub.status.busy": "2022-05-24T19:35:32.665102Z",
     "iopub.status.idle": "2022-05-24T19:35:32.698296Z",
     "shell.execute_reply": "2022-05-24T19:35:32.697324Z"
    },
    "papermill": {
     "duration": 0.070874,
     "end_time": "2022-05-24T19:35:32.700581",
     "exception": false,
     "start_time": "2022-05-24T19:35:32.629707",
     "status": "completed"
    },
    "tags": []
   },
   "outputs": [
    {
     "data": {
      "text/html": [
       "<div>\n",
       "<style scoped>\n",
       "    .dataframe tbody tr th:only-of-type {\n",
       "        vertical-align: middle;\n",
       "    }\n",
       "\n",
       "    .dataframe tbody tr th {\n",
       "        vertical-align: top;\n",
       "    }\n",
       "\n",
       "    .dataframe thead th {\n",
       "        text-align: right;\n",
       "    }\n",
       "</style>\n",
       "<table border=\"1\" class=\"dataframe\">\n",
       "  <thead>\n",
       "    <tr style=\"text-align: right;\">\n",
       "      <th></th>\n",
       "      <th>age</th>\n",
       "      <th>anaemia</th>\n",
       "      <th>creatinine_phosphokinase</th>\n",
       "      <th>diabetes</th>\n",
       "      <th>ejection_fraction</th>\n",
       "      <th>high_blood_pressure</th>\n",
       "      <th>platelets</th>\n",
       "      <th>serum_creatinine</th>\n",
       "      <th>serum_sodium</th>\n",
       "      <th>sex</th>\n",
       "      <th>smoking</th>\n",
       "      <th>time</th>\n",
       "    </tr>\n",
       "  </thead>\n",
       "  <tbody>\n",
       "    <tr>\n",
       "      <th>0</th>\n",
       "      <td>75.0</td>\n",
       "      <td>0</td>\n",
       "      <td>582</td>\n",
       "      <td>0</td>\n",
       "      <td>20</td>\n",
       "      <td>1</td>\n",
       "      <td>265000.00</td>\n",
       "      <td>1.9</td>\n",
       "      <td>130</td>\n",
       "      <td>1</td>\n",
       "      <td>0</td>\n",
       "      <td>4</td>\n",
       "    </tr>\n",
       "    <tr>\n",
       "      <th>1</th>\n",
       "      <td>55.0</td>\n",
       "      <td>0</td>\n",
       "      <td>7861</td>\n",
       "      <td>0</td>\n",
       "      <td>38</td>\n",
       "      <td>0</td>\n",
       "      <td>263358.03</td>\n",
       "      <td>1.1</td>\n",
       "      <td>136</td>\n",
       "      <td>1</td>\n",
       "      <td>0</td>\n",
       "      <td>6</td>\n",
       "    </tr>\n",
       "    <tr>\n",
       "      <th>2</th>\n",
       "      <td>65.0</td>\n",
       "      <td>0</td>\n",
       "      <td>146</td>\n",
       "      <td>0</td>\n",
       "      <td>20</td>\n",
       "      <td>0</td>\n",
       "      <td>162000.00</td>\n",
       "      <td>1.3</td>\n",
       "      <td>129</td>\n",
       "      <td>1</td>\n",
       "      <td>1</td>\n",
       "      <td>7</td>\n",
       "    </tr>\n",
       "    <tr>\n",
       "      <th>3</th>\n",
       "      <td>50.0</td>\n",
       "      <td>1</td>\n",
       "      <td>111</td>\n",
       "      <td>0</td>\n",
       "      <td>20</td>\n",
       "      <td>0</td>\n",
       "      <td>210000.00</td>\n",
       "      <td>1.9</td>\n",
       "      <td>137</td>\n",
       "      <td>1</td>\n",
       "      <td>0</td>\n",
       "      <td>7</td>\n",
       "    </tr>\n",
       "    <tr>\n",
       "      <th>4</th>\n",
       "      <td>65.0</td>\n",
       "      <td>1</td>\n",
       "      <td>160</td>\n",
       "      <td>1</td>\n",
       "      <td>20</td>\n",
       "      <td>0</td>\n",
       "      <td>327000.00</td>\n",
       "      <td>2.7</td>\n",
       "      <td>116</td>\n",
       "      <td>0</td>\n",
       "      <td>0</td>\n",
       "      <td>8</td>\n",
       "    </tr>\n",
       "    <tr>\n",
       "      <th>...</th>\n",
       "      <td>...</td>\n",
       "      <td>...</td>\n",
       "      <td>...</td>\n",
       "      <td>...</td>\n",
       "      <td>...</td>\n",
       "      <td>...</td>\n",
       "      <td>...</td>\n",
       "      <td>...</td>\n",
       "      <td>...</td>\n",
       "      <td>...</td>\n",
       "      <td>...</td>\n",
       "      <td>...</td>\n",
       "    </tr>\n",
       "    <tr>\n",
       "      <th>294</th>\n",
       "      <td>62.0</td>\n",
       "      <td>0</td>\n",
       "      <td>61</td>\n",
       "      <td>1</td>\n",
       "      <td>38</td>\n",
       "      <td>1</td>\n",
       "      <td>155000.00</td>\n",
       "      <td>1.1</td>\n",
       "      <td>143</td>\n",
       "      <td>1</td>\n",
       "      <td>1</td>\n",
       "      <td>270</td>\n",
       "    </tr>\n",
       "    <tr>\n",
       "      <th>295</th>\n",
       "      <td>55.0</td>\n",
       "      <td>0</td>\n",
       "      <td>1820</td>\n",
       "      <td>0</td>\n",
       "      <td>38</td>\n",
       "      <td>0</td>\n",
       "      <td>270000.00</td>\n",
       "      <td>1.2</td>\n",
       "      <td>139</td>\n",
       "      <td>0</td>\n",
       "      <td>0</td>\n",
       "      <td>271</td>\n",
       "    </tr>\n",
       "    <tr>\n",
       "      <th>296</th>\n",
       "      <td>45.0</td>\n",
       "      <td>0</td>\n",
       "      <td>2060</td>\n",
       "      <td>1</td>\n",
       "      <td>60</td>\n",
       "      <td>0</td>\n",
       "      <td>742000.00</td>\n",
       "      <td>0.8</td>\n",
       "      <td>138</td>\n",
       "      <td>0</td>\n",
       "      <td>0</td>\n",
       "      <td>278</td>\n",
       "    </tr>\n",
       "    <tr>\n",
       "      <th>297</th>\n",
       "      <td>45.0</td>\n",
       "      <td>0</td>\n",
       "      <td>2413</td>\n",
       "      <td>0</td>\n",
       "      <td>38</td>\n",
       "      <td>0</td>\n",
       "      <td>140000.00</td>\n",
       "      <td>1.4</td>\n",
       "      <td>140</td>\n",
       "      <td>1</td>\n",
       "      <td>1</td>\n",
       "      <td>280</td>\n",
       "    </tr>\n",
       "    <tr>\n",
       "      <th>298</th>\n",
       "      <td>50.0</td>\n",
       "      <td>0</td>\n",
       "      <td>196</td>\n",
       "      <td>0</td>\n",
       "      <td>45</td>\n",
       "      <td>0</td>\n",
       "      <td>395000.00</td>\n",
       "      <td>1.6</td>\n",
       "      <td>136</td>\n",
       "      <td>1</td>\n",
       "      <td>1</td>\n",
       "      <td>285</td>\n",
       "    </tr>\n",
       "  </tbody>\n",
       "</table>\n",
       "<p>299 rows × 12 columns</p>\n",
       "</div>"
      ],
      "text/plain": [
       "      age  anaemia  creatinine_phosphokinase  diabetes  ejection_fraction  \\\n",
       "0    75.0        0                       582         0                 20   \n",
       "1    55.0        0                      7861         0                 38   \n",
       "2    65.0        0                       146         0                 20   \n",
       "3    50.0        1                       111         0                 20   \n",
       "4    65.0        1                       160         1                 20   \n",
       "..    ...      ...                       ...       ...                ...   \n",
       "294  62.0        0                        61         1                 38   \n",
       "295  55.0        0                      1820         0                 38   \n",
       "296  45.0        0                      2060         1                 60   \n",
       "297  45.0        0                      2413         0                 38   \n",
       "298  50.0        0                       196         0                 45   \n",
       "\n",
       "     high_blood_pressure  platelets  serum_creatinine  serum_sodium  sex  \\\n",
       "0                      1  265000.00               1.9           130    1   \n",
       "1                      0  263358.03               1.1           136    1   \n",
       "2                      0  162000.00               1.3           129    1   \n",
       "3                      0  210000.00               1.9           137    1   \n",
       "4                      0  327000.00               2.7           116    0   \n",
       "..                   ...        ...               ...           ...  ...   \n",
       "294                    1  155000.00               1.1           143    1   \n",
       "295                    0  270000.00               1.2           139    0   \n",
       "296                    0  742000.00               0.8           138    0   \n",
       "297                    0  140000.00               1.4           140    1   \n",
       "298                    0  395000.00               1.6           136    1   \n",
       "\n",
       "     smoking  time  \n",
       "0          0     4  \n",
       "1          0     6  \n",
       "2          1     7  \n",
       "3          0     7  \n",
       "4          0     8  \n",
       "..       ...   ...  \n",
       "294        1   270  \n",
       "295        0   271  \n",
       "296        0   278  \n",
       "297        1   280  \n",
       "298        1   285  \n",
       "\n",
       "[299 rows x 12 columns]"
      ]
     },
     "execution_count": 8,
     "metadata": {},
     "output_type": "execute_result"
    }
   ],
   "source": [
    "X"
   ]
  },
  {
   "cell_type": "code",
   "execution_count": 9,
   "id": "4a2e1774",
   "metadata": {
    "execution": {
     "iopub.execute_input": "2022-05-24T19:35:32.787716Z",
     "iopub.status.busy": "2022-05-24T19:35:32.787240Z",
     "iopub.status.idle": "2022-05-24T19:35:34.657210Z",
     "shell.execute_reply": "2022-05-24T19:35:34.655602Z"
    },
    "papermill": {
     "duration": 1.917274,
     "end_time": "2022-05-24T19:35:34.660052",
     "exception": false,
     "start_time": "2022-05-24T19:35:32.742778",
     "status": "completed"
    },
    "tags": []
   },
   "outputs": [
    {
     "data": {
      "image/png": "[encoded data removed]",
      "text/plain": [
       "<Figure size 432x288 with 1 Axes>"
      ]
     },
     "metadata": {},
     "output_type": "display_data"
    },
    {
     "data": {
      "image/png": "[encoded data removed]",
      "text/plain": [
       "<Figure size 432x288 with 1 Axes>"
      ]
     },
     "metadata": {},
     "output_type": "display_data"
    },
    {
     "data": {
      "image/png": "[encoded data removed]",
      "text/plain": [
       "<Figure size 432x288 with 1 Axes>"
      ]
     },
     "metadata": {},
     "output_type": "display_data"
    },
    {
     "data": {
      "image/png": "[encoded data removed]",
      "text/plain": [
       "<Figure size 432x288 with 1 Axes>"
      ]
     },
     "metadata": {},
     "output_type": "display_data"
    },
    {
     "data": {
      "image/png": "[encoded data removed]",
      "text/plain": [
       "<Figure size 432x288 with 1 Axes>"
      ]
     },
     "metadata": {},
     "output_type": "display_data"
    },
    {
     "data": {
      "image/png": "[encoded data removed]",
      "text/plain": [
       "<Figure size 432x288 with 1 Axes>"
      ]
     },
     "metadata": {},
     "output_type": "display_data"
    },
    {
     "data": {
      "image/png": "[encoded data removed]",
      "text/plain": [
       "<Figure size 432x288 with 1 Axes>"
      ]
     },
     "metadata": {},
     "output_type": "display_data"
    },
    {
     "data": {
      "image/png": "[encoded data removed]",
      "text/plain": [
       "<Figure size 432x288 with 1 Axes>"
      ]
     },
     "metadata": {},
     "output_type": "display_data"
    },
    {
     "data": {
      "image/png": "[encoded data removed]",
      "text/plain": [
       "<Figure size 432x288 with 1 Axes>"
      ]
     },
     "metadata": {},
     "output_type": "display_data"
    },
    {
     "data": {
      "image/png": "[encoded data removed]",
      "text/plain": [
       "<Figure size 432x288 with 1 Axes>"
      ]
     },
     "metadata": {},
     "output_type": "display_data"
    },
    {
     "data": {
      "image/png": "[encoded data removed]",
      "text/plain": [
       "<Figure size 432x288 with 1 Axes>"
      ]
     },
     "metadata": {},
     "output_type": "display_data"
    },
    {
     "data": {
      "image/png": "[encoded data removed]",
      "text/plain": [
       "<Figure size 432x288 with 1 Axes>"
      ]
     },
     "metadata": {},
     "output_type": "display_data"
    }
   ],
   "source": [
    "import seaborn as sns\n",
    "import matplotlib.pyplot as plt\n",
    "sns.set_theme(style=\"whitegrid\")\n",
    "for i in X.columns:\n",
    "    plt.figure()\n",
    "    sns.boxplot(x=df[i])"
   ]
  },
  {
   "cell_type": "markdown",
   "id": "5e6c2402",
   "metadata": {
    "papermill": {
     "duration": 0.045412,
     "end_time": "2022-05-24T19:35:34.751809",
     "exception": false,
     "start_time": "2022-05-24T19:35:34.706397",
     "status": "completed"
    },
    "tags": []
   },
   "source": [
    "**AS WE CAN SEE THAT OUR DATASET HAS FEW OUTLIERS BUT BECAUSE OF VERY LESS NUMBER OF ROWS IN OUR DATASET WE WONT REMOVE THEM**"
   ]
  },
  {
   "cell_type": "code",
   "execution_count": 10,
   "id": "a9f2b953",
   "metadata": {
    "execution": {
     "iopub.execute_input": "2022-05-24T19:35:34.844618Z",
     "iopub.status.busy": "2022-05-24T19:35:34.844157Z",
     "iopub.status.idle": "2022-05-24T19:35:35.837280Z",
     "shell.execute_reply": "2022-05-24T19:35:35.836209Z"
    },
    "papermill": {
     "duration": 1.04254,
     "end_time": "2022-05-24T19:35:35.839796",
     "exception": false,
     "start_time": "2022-05-24T19:35:34.797256",
     "status": "completed"
    },
    "tags": []
   },
   "outputs": [
    {
     "data": {
      "text/plain": [
       "<AxesSubplot:>"
      ]
     },
     "execution_count": 10,
     "metadata": {},
     "output_type": "execute_result"
    },
    {
     "data": {
      "image/png": "[encoded data removed]",
      "text/plain": [
       "<Figure size 432x288 with 2 Axes>"
      ]
     },
     "metadata": {},
     "output_type": "display_data"
    }
   ],
   "source": [
    "sns.heatmap(df.corr(), square = True, annot = True)\n"
   ]
  },
  {
   "cell_type": "code",
   "execution_count": 11,
   "id": "b7a29cf3",
   "metadata": {
    "execution": {
     "iopub.execute_input": "2022-05-24T19:35:35.940914Z",
     "iopub.status.busy": "2022-05-24T19:35:35.940496Z",
     "iopub.status.idle": "2022-05-24T19:35:36.200478Z",
     "shell.execute_reply": "2022-05-24T19:35:36.199176Z"
    },
    "papermill": {
     "duration": 0.313261,
     "end_time": "2022-05-24T19:35:36.203489",
     "exception": false,
     "start_time": "2022-05-24T19:35:35.890228",
     "status": "completed"
    },
    "tags": []
   },
   "outputs": [],
   "source": [
    "from sklearn.model_selection import train_test_split\n",
    "X_train,X_test,y_train,y_test=train_test_split(X,y)"
   ]
  },
  {
   "cell_type": "markdown",
   "id": "3c965b43",
   "metadata": {
    "papermill": {
     "duration": 0.048378,
     "end_time": "2022-05-24T19:35:36.301067",
     "exception": false,
     "start_time": "2022-05-24T19:35:36.252689",
     "status": "completed"
    },
    "tags": []
   },
   "source": [
    "**FITTING MODELS**"
   ]
  },
  {
   "cell_type": "markdown",
   "id": "85b1504e",
   "metadata": {
    "papermill": {
     "duration": 0.048213,
     "end_time": "2022-05-24T19:35:36.397544",
     "exception": false,
     "start_time": "2022-05-24T19:35:36.349331",
     "status": "completed"
    },
    "tags": []
   },
   "source": [
    "**SVM**"
   ]
  },
  {
   "cell_type": "code",
   "execution_count": 12,
   "id": "5461d675",
   "metadata": {
    "execution": {
     "iopub.execute_input": "2022-05-24T19:35:36.497209Z",
     "iopub.status.busy": "2022-05-24T19:35:36.496722Z",
     "iopub.status.idle": "2022-05-24T19:35:36.601013Z",
     "shell.execute_reply": "2022-05-24T19:35:36.600192Z"
    },
    "papermill": {
     "duration": 0.157706,
     "end_time": "2022-05-24T19:35:36.603568",
     "exception": false,
     "start_time": "2022-05-24T19:35:36.445862",
     "status": "completed"
    },
    "tags": []
   },
   "outputs": [],
   "source": [
    "from sklearn.svm import SVC\n",
    "svm=SVC()\n",
    "svm.fit(X_train,y_train)\n",
    "sv=svm.predict(X_test)"
   ]
  },
  {
   "cell_type": "code",
   "execution_count": 13,
   "id": "e09a41de",
   "metadata": {
    "execution": {
     "iopub.execute_input": "2022-05-24T19:35:36.671657Z",
     "iopub.status.busy": "2022-05-24T19:35:36.671373Z",
     "iopub.status.idle": "2022-05-24T19:35:36.681267Z",
     "shell.execute_reply": "2022-05-24T19:35:36.680277Z"
    },
    "papermill": {
     "duration": 0.046357,
     "end_time": "2022-05-24T19:35:36.683212",
     "exception": false,
     "start_time": "2022-05-24T19:35:36.636855",
     "status": "completed"
    },
    "tags": []
   },
   "outputs": [
    {
     "data": {
      "text/plain": [
       "0.6266666666666667"
      ]
     },
     "execution_count": 13,
     "metadata": {},
     "output_type": "execute_result"
    }
   ],
   "source": [
    "svm.score(X_test,y_test)"
   ]
  },
  {
   "cell_type": "code",
   "execution_count": 14,
   "id": "ba2be69c",
   "metadata": {
    "execution": {
     "iopub.execute_input": "2022-05-24T19:35:36.784609Z",
     "iopub.status.busy": "2022-05-24T19:35:36.784337Z",
     "iopub.status.idle": "2022-05-24T19:35:36.792380Z",
     "shell.execute_reply": "2022-05-24T19:35:36.791507Z"
    },
    "papermill": {
     "duration": 0.061451,
     "end_time": "2022-05-24T19:35:36.794644",
     "exception": false,
     "start_time": "2022-05-24T19:35:36.733193",
     "status": "completed"
    },
    "tags": []
   },
   "outputs": [
    {
     "name": "stdout",
     "output_type": "stream",
     "text": [
      "[[47  0]\n",
      " [28  0]]\n"
     ]
    }
   ],
   "source": [
    "from sklearn.metrics import confusion_matrix\n",
    "\n",
    "#Generate the confusion matrix\n",
    "cf_matrix = confusion_matrix(y_test, sv)\n",
    "\n",
    "print(cf_matrix)"
   ]
  },
  {
   "cell_type": "code",
   "execution_count": 15,
   "id": "0de77554",
   "metadata": {
    "execution": {
     "iopub.execute_input": "2022-05-24T19:35:36.894942Z",
     "iopub.status.busy": "2022-05-24T19:35:36.894620Z",
     "iopub.status.idle": "2022-05-24T19:35:37.082620Z",
     "shell.execute_reply": "2022-05-24T19:35:37.081605Z"
    },
    "papermill": {
     "duration": 0.240719,
     "end_time": "2022-05-24T19:35:37.084822",
     "exception": false,
     "start_time": "2022-05-24T19:35:36.844103",
     "status": "completed"
    },
    "tags": []
   },
   "outputs": [
    {
     "data": {
      "image/png": "[encoded data removed]",
      "text/plain": [
       "<Figure size 432x288 with 2 Axes>"
      ]
     },
     "metadata": {},
     "output_type": "display_data"
    }
   ],
   "source": [
    "import seaborn as sns\n",
    "import matplotlib.pyplot as plt\n",
    "ax = sns.heatmap(cf_matrix, annot=True, cmap='Blues')\n",
    "\n",
    "ax.set_title('Seaborn Confusion Matrix with labels\\n\\n');\n",
    "ax.set_xlabel('\\nPredicted Values')\n",
    "ax.set_ylabel('Actual Values ');\n",
    "\n",
    "## Ticket labels - List must be in alphabetical order\n",
    "ax.xaxis.set_ticklabels(['False','True'])\n",
    "ax.yaxis.set_ticklabels(['False','True'])\n",
    "\n",
    "## Display the visualization of the Confusion Matrix.\n",
    "plt.show()"
   ]
  },
  {
   "cell_type": "code",
   "execution_count": 16,
   "id": "1c76dcf0",
   "metadata": {
    "execution": {
     "iopub.execute_input": "2022-05-24T19:35:37.189746Z",
     "iopub.status.busy": "2022-05-24T19:35:37.189025Z",
     "iopub.status.idle": "2022-05-24T19:35:37.574340Z",
     "shell.execute_reply": "2022-05-24T19:35:37.572857Z"
    },
    "papermill": {
     "duration": 0.439286,
     "end_time": "2022-05-24T19:35:37.576707",
     "exception": false,
     "start_time": "2022-05-24T19:35:37.137421",
     "status": "completed"
    },
    "tags": []
   },
   "outputs": [
    {
     "data": {
      "text/plain": [
       "XGBClassifier(base_score=0.5, booster='gbtree', callbacks=None,\n",
       "              colsample_bylevel=1, colsample_bynode=1, colsample_bytree=1,\n",
       "              early_stopping_rounds=None, enable_categorical=False,\n",
       "              eval_metric=None, gamma=0, gpu_id=-1, grow_policy='depthwise',\n",
       "              importance_type=None, interaction_constraints='',\n",
       "              learning_rate=0.300000012, max_bin=256, max_cat_to_onehot=4,\n",
       "              max_delta_step=0, max_depth=6, max_leaves=0, min_child_weight=1,\n",
       "              missing=nan, monotone_constraints='()', n_estimators=100,\n",
       "              n_jobs=0, num_parallel_tree=1, predictor='auto', random_state=0,\n",
       "              reg_alpha=0, reg_lambda=1, ...)"
      ]
     },
     "execution_count": 16,
     "metadata": {},
     "output_type": "execute_result"
    }
   ],
   "source": [
    "from xgboost import XGBClassifier\n",
    "model=XGBClassifier(gamma=0)\n",
    "model.fit(X_train,y_train)\n"
   ]
  },
  {
   "cell_type": "code",
   "execution_count": 17,
   "id": "7ce4f5a7",
   "metadata": {
    "execution": {
     "iopub.execute_input": "2022-05-24T19:35:37.648604Z",
     "iopub.status.busy": "2022-05-24T19:35:37.648348Z",
     "iopub.status.idle": "2022-05-24T19:35:37.669842Z",
     "shell.execute_reply": "2022-05-24T19:35:37.664792Z"
    },
    "papermill": {
     "duration": 0.059952,
     "end_time": "2022-05-24T19:35:37.671830",
     "exception": false,
     "start_time": "2022-05-24T19:35:37.611878",
     "status": "completed"
    },
    "tags": []
   },
   "outputs": [],
   "source": [
    "xg_pred=model.predict(X_test)"
   ]
  },
  {
   "cell_type": "code",
   "execution_count": 18,
   "id": "3a1f960b",
   "metadata": {
    "execution": {
     "iopub.execute_input": "2022-05-24T19:35:37.740807Z",
     "iopub.status.busy": "2022-05-24T19:35:37.740537Z",
     "iopub.status.idle": "2022-05-24T19:35:37.762610Z",
     "shell.execute_reply": "2022-05-24T19:35:37.760783Z"
    },
    "papermill": {
     "duration": 0.059053,
     "end_time": "2022-05-24T19:35:37.764861",
     "exception": false,
     "start_time": "2022-05-24T19:35:37.705808",
     "status": "completed"
    },
    "tags": []
   },
   "outputs": [
    {
     "data": {
      "text/plain": [
       "0.8133333333333334"
      ]
     },
     "execution_count": 18,
     "metadata": {},
     "output_type": "execute_result"
    }
   ],
   "source": [
    "model.score(X_test,y_test)"
   ]
  },
  {
   "cell_type": "code",
   "execution_count": 19,
   "id": "2f21bb94",
   "metadata": {
    "execution": {
     "iopub.execute_input": "2022-05-24T19:35:37.840031Z",
     "iopub.status.busy": "2022-05-24T19:35:37.839706Z",
     "iopub.status.idle": "2022-05-24T19:35:44.109717Z",
     "shell.execute_reply": "2022-05-24T19:35:44.108579Z"
    },
    "papermill": {
     "duration": 6.310902,
     "end_time": "2022-05-24T19:35:44.111759",
     "exception": false,
     "start_time": "2022-05-24T19:35:37.800857",
     "status": "completed"
    },
    "tags": []
   },
   "outputs": [],
   "source": [
    "import tensorflow as tf\n",
    "from tensorflow import keras\n"
   ]
  },
  {
   "cell_type": "code",
   "execution_count": 20,
   "id": "7ed8600e",
   "metadata": {
    "execution": {
     "iopub.execute_input": "2022-05-24T19:35:44.184482Z",
     "iopub.status.busy": "2022-05-24T19:35:44.184206Z",
     "iopub.status.idle": "2022-05-24T19:35:51.944004Z",
     "shell.execute_reply": "2022-05-24T19:35:51.942483Z"
    },
    "papermill": {
     "duration": 7.799698,
     "end_time": "2022-05-24T19:35:51.946876",
     "exception": false,
     "start_time": "2022-05-24T19:35:44.147178",
     "status": "completed"
    },
    "tags": []
   },
   "outputs": [
    {
     "name": "stderr",
     "output_type": "stream",
     "text": [
      "2022-05-24 19:35:45.375503: I tensorflow/core/common_runtime/process_util.cc:146] Creating new thread pool with default inter op setting: 2. Tune using inter_op_parallelism_threads for best performance.\n",
      "2022-05-24 19:35:45.566294: I tensorflow/compiler/mlir/mlir_graph_optimization_pass.cc:185] None of the MLIR Optimization Passes are enabled (registered 2)\n"
     ]
    },
    {
     "name": "stdout",
     "output_type": "stream",
     "text": [
      "Epoch 1/100\n",
      "2/2 [==============================] - 1s 277ms/step - loss: 31602.7227 - accuracy: 0.0000e+00 - val_loss: 14803.5830 - val_accuracy: 0.0000e+00\n",
      "Epoch 2/100\n",
      "2/2 [==============================] - 0s 54ms/step - loss: 12225.1162 - accuracy: 0.3036 - val_loss: 8815.3359 - val_accuracy: 0.6267\n",
      "Epoch 3/100\n",
      "2/2 [==============================] - 0s 34ms/step - loss: 7780.9141 - accuracy: 0.6964 - val_loss: 6216.2915 - val_accuracy: 0.6267\n",
      "Epoch 4/100\n",
      "2/2 [==============================] - 0s 30ms/step - loss: 4947.9790 - accuracy: 0.6964 - val_loss: 2483.6384 - val_accuracy: 0.6267\n",
      "Epoch 5/100\n",
      "2/2 [==============================] - 0s 47ms/step - loss: 1419.4069 - accuracy: 0.6964 - val_loss: 3617.5420 - val_accuracy: 0.3733\n",
      "Epoch 6/100\n",
      "2/2 [==============================] - 0s 31ms/step - loss: 5174.0278 - accuracy: 0.3036 - val_loss: 4737.4561 - val_accuracy: 0.3733\n",
      "Epoch 7/100\n",
      "2/2 [==============================] - 0s 32ms/step - loss: 4876.0068 - accuracy: 0.3036 - val_loss: 454.1802 - val_accuracy: 0.3733\n",
      "Epoch 8/100\n",
      "2/2 [==============================] - 0s 51ms/step - loss: 938.4277 - accuracy: 0.4911 - val_loss: 2968.6467 - val_accuracy: 0.6267\n",
      "Epoch 9/100\n",
      "2/2 [==============================] - 0s 56ms/step - loss: 3156.9863 - accuracy: 0.6964 - val_loss: 4530.3779 - val_accuracy: 0.6267\n",
      "Epoch 10/100\n",
      "2/2 [==============================] - 0s 33ms/step - loss: 4320.2339 - accuracy: 0.6964 - val_loss: 4759.0474 - val_accuracy: 0.6267\n",
      "Epoch 11/100\n",
      "2/2 [==============================] - 0s 50ms/step - loss: 4322.6016 - accuracy: 0.6964 - val_loss: 3941.9622 - val_accuracy: 0.6267\n",
      "Epoch 12/100\n",
      "2/2 [==============================] - 0s 55ms/step - loss: 3408.4661 - accuracy: 0.6964 - val_loss: 2234.1357 - val_accuracy: 0.6267\n",
      "Epoch 13/100\n",
      "2/2 [==============================] - 0s 31ms/step - loss: 1625.1415 - accuracy: 0.6964 - val_loss: 270.7930 - val_accuracy: 0.3733\n",
      "Epoch 14/100\n",
      "2/2 [==============================] - 0s 30ms/step - loss: 844.4453 - accuracy: 0.3036 - val_loss: 912.5579 - val_accuracy: 0.3733\n",
      "Epoch 15/100\n",
      "2/2 [==============================] - 0s 47ms/step - loss: 704.0560 - accuracy: 0.4911 - val_loss: 602.5512 - val_accuracy: 0.6267\n",
      "Epoch 16/100\n",
      "2/2 [==============================] - 0s 49ms/step - loss: 599.8107 - accuracy: 0.6964 - val_loss: 547.7196 - val_accuracy: 0.6267\n",
      "Epoch 17/100\n",
      "2/2 [==============================] - 0s 55ms/step - loss: 366.4054 - accuracy: 0.6964 - val_loss: 823.0407 - val_accuracy: 0.3733\n",
      "Epoch 18/100\n",
      "2/2 [==============================] - 0s 29ms/step - loss: 947.8524 - accuracy: 0.3036 - val_loss: 212.5183 - val_accuracy: 0.6267\n",
      "Epoch 19/100\n",
      "2/2 [==============================] - 0s 33ms/step - loss: 313.1948 - accuracy: 0.6964 - val_loss: 562.8502 - val_accuracy: 0.6267\n",
      "Epoch 20/100\n",
      "2/2 [==============================] - 0s 29ms/step - loss: 444.3175 - accuracy: 0.6964 - val_loss: 127.9610 - val_accuracy: 0.3733\n",
      "Epoch 21/100\n",
      "2/2 [==============================] - 0s 45ms/step - loss: 115.4814 - accuracy: 0.5045 - val_loss: 53.6087 - val_accuracy: 0.6267\n",
      "Epoch 22/100\n",
      "2/2 [==============================] - 0s 29ms/step - loss: 256.0249 - accuracy: 0.5134 - val_loss: 68.6988 - val_accuracy: 0.6267\n",
      "Epoch 23/100\n",
      "2/2 [==============================] - 0s 29ms/step - loss: 88.8226 - accuracy: 0.6964 - val_loss: 177.4504 - val_accuracy: 0.3733\n",
      "Epoch 24/100\n",
      "2/2 [==============================] - 0s 31ms/step - loss: 207.1051 - accuracy: 0.5089 - val_loss: 317.2021 - val_accuracy: 0.6267\n",
      "Epoch 25/100\n",
      "2/2 [==============================] - 0s 53ms/step - loss: 228.3673 - accuracy: 0.6964 - val_loss: 454.6717 - val_accuracy: 0.3733\n",
      "Epoch 26/100\n",
      "2/2 [==============================] - 0s 53ms/step - loss: 365.2795 - accuracy: 0.3036 - val_loss: 684.3948 - val_accuracy: 0.6267\n",
      "Epoch 27/100\n",
      "2/2 [==============================] - 0s 53ms/step - loss: 810.2515 - accuracy: 0.6964 - val_loss: 1256.2106 - val_accuracy: 0.6267\n",
      "Epoch 28/100\n",
      "2/2 [==============================] - 0s 46ms/step - loss: 1131.2340 - accuracy: 0.6964 - val_loss: 805.0494 - val_accuracy: 0.6267\n",
      "Epoch 29/100\n",
      "2/2 [==============================] - 0s 29ms/step - loss: 518.7192 - accuracy: 0.6964 - val_loss: 948.7126 - val_accuracy: 0.3733\n",
      "Epoch 30/100\n",
      "2/2 [==============================] - 0s 46ms/step - loss: 1221.4703 - accuracy: 0.3036 - val_loss: 266.9720 - val_accuracy: 0.3733\n",
      "Epoch 31/100\n",
      "2/2 [==============================] - 0s 53ms/step - loss: 449.4802 - accuracy: 0.5000 - val_loss: 1452.1176 - val_accuracy: 0.6267\n",
      "Epoch 32/100\n",
      "2/2 [==============================] - 0s 52ms/step - loss: 1475.5211 - accuracy: 0.6964 - val_loss: 1859.3638 - val_accuracy: 0.6267\n",
      "Epoch 33/100\n",
      "2/2 [==============================] - 0s 52ms/step - loss: 1665.1072 - accuracy: 0.6964 - val_loss: 1278.9115 - val_accuracy: 0.6267\n",
      "Epoch 34/100\n",
      "2/2 [==============================] - 0s 43ms/step - loss: 958.3986 - accuracy: 0.6964 - val_loss: 246.6603 - val_accuracy: 0.3733\n",
      "Epoch 35/100\n",
      "2/2 [==============================] - 0s 55ms/step - loss: 409.6863 - accuracy: 0.3036 - val_loss: 183.3785 - val_accuracy: 0.6267\n",
      "Epoch 36/100\n",
      "2/2 [==============================] - 0s 57ms/step - loss: 234.1164 - accuracy: 0.6964 - val_loss: 236.0714 - val_accuracy: 0.6267\n",
      "Epoch 37/100\n",
      "2/2 [==============================] - 0s 55ms/step - loss: 209.4718 - accuracy: 0.5268 - val_loss: 168.5466 - val_accuracy: 0.6267\n",
      "Epoch 38/100\n",
      "2/2 [==============================] - 0s 31ms/step - loss: 152.4233 - accuracy: 0.6964 - val_loss: 168.7386 - val_accuracy: 0.3733\n",
      "Epoch 39/100\n",
      "2/2 [==============================] - 0s 35ms/step - loss: 221.6405 - accuracy: 0.4732 - val_loss: 338.4455 - val_accuracy: 0.6267\n",
      "Epoch 40/100\n",
      "2/2 [==============================] - 0s 49ms/step - loss: 248.5290 - accuracy: 0.6964 - val_loss: 406.9091 - val_accuracy: 0.3733\n",
      "Epoch 41/100\n",
      "2/2 [==============================] - 0s 30ms/step - loss: 307.2763 - accuracy: 0.3036 - val_loss: 718.5309 - val_accuracy: 0.6267\n",
      "Epoch 42/100\n",
      "2/2 [==============================] - 0s 33ms/step - loss: 890.6411 - accuracy: 0.6964 - val_loss: 1322.5602 - val_accuracy: 0.6267\n",
      "Epoch 43/100\n",
      "2/2 [==============================] - 0s 33ms/step - loss: 1183.8551 - accuracy: 0.6964 - val_loss: 832.8530 - val_accuracy: 0.6267\n",
      "Epoch 44/100\n",
      "2/2 [==============================] - 0s 56ms/step - loss: 556.5226 - accuracy: 0.6964 - val_loss: 861.8779 - val_accuracy: 0.3733\n",
      "Epoch 45/100\n",
      "2/2 [==============================] - 0s 52ms/step - loss: 1122.6205 - accuracy: 0.3036 - val_loss: 150.8916 - val_accuracy: 0.3733\n",
      "Epoch 46/100\n",
      "2/2 [==============================] - 0s 34ms/step - loss: 432.6641 - accuracy: 0.5000 - val_loss: 1578.8945 - val_accuracy: 0.6267\n",
      "Epoch 47/100\n",
      "2/2 [==============================] - 0s 54ms/step - loss: 1639.7330 - accuracy: 0.6964 - val_loss: 2038.4163 - val_accuracy: 0.6267\n",
      "Epoch 48/100\n",
      "2/2 [==============================] - 0s 56ms/step - loss: 1832.7264 - accuracy: 0.6964 - val_loss: 1451.3102 - val_accuracy: 0.6267\n",
      "Epoch 49/100\n",
      "2/2 [==============================] - 0s 53ms/step - loss: 1097.1171 - accuracy: 0.6964 - val_loss: 71.1800 - val_accuracy: 0.6267\n",
      "Epoch 50/100\n",
      "2/2 [==============================] - 0s 55ms/step - loss: 928.2259 - accuracy: 0.5045 - val_loss: 2159.3516 - val_accuracy: 0.3733\n",
      "Epoch 51/100\n",
      "2/2 [==============================] - 0s 34ms/step - loss: 2313.9197 - accuracy: 0.3036 - val_loss: 54.6308 - val_accuracy: 0.3733\n",
      "Epoch 52/100\n",
      "2/2 [==============================] - 0s 36ms/step - loss: 647.4029 - accuracy: 0.4286 - val_loss: 2271.2271 - val_accuracy: 0.6267\n",
      "Epoch 53/100\n",
      "2/2 [==============================] - 0s 67ms/step - loss: 2351.7026 - accuracy: 0.6964 - val_loss: 3193.8586 - val_accuracy: 0.6267\n",
      "Epoch 54/100\n",
      "2/2 [==============================] - 0s 54ms/step - loss: 3002.5862 - accuracy: 0.6964 - val_loss: 3040.3076 - val_accuracy: 0.6267\n",
      "Epoch 55/100\n",
      "2/2 [==============================] - 0s 49ms/step - loss: 2691.5315 - accuracy: 0.6964 - val_loss: 1954.0566 - val_accuracy: 0.6267\n",
      "Epoch 56/100\n",
      "2/2 [==============================] - 0s 49ms/step - loss: 1526.1536 - accuracy: 0.6964 - val_loss: 185.2225 - val_accuracy: 0.6267\n",
      "Epoch 57/100\n",
      "2/2 [==============================] - 0s 53ms/step - loss: 997.2617 - accuracy: 0.5089 - val_loss: 2480.3174 - val_accuracy: 0.3733\n",
      "Epoch 58/100\n",
      "2/2 [==============================] - 0s 56ms/step - loss: 2834.7327 - accuracy: 0.3036 - val_loss: 858.5530 - val_accuracy: 0.3733\n",
      "Epoch 59/100\n",
      "2/2 [==============================] - 0s 43ms/step - loss: 854.3202 - accuracy: 0.4911 - val_loss: 1563.0914 - val_accuracy: 0.6267\n",
      "Epoch 60/100\n",
      "2/2 [==============================] - 0s 34ms/step - loss: 1641.8685 - accuracy: 0.6964 - val_loss: 2311.6758 - val_accuracy: 0.6267\n",
      "Epoch 61/100\n",
      "2/2 [==============================] - 0s 33ms/step - loss: 2161.6343 - accuracy: 0.6964 - val_loss: 2046.6238 - val_accuracy: 0.6267\n",
      "Epoch 62/100\n",
      "2/2 [==============================] - 0s 33ms/step - loss: 1707.8533 - accuracy: 0.6964 - val_loss: 878.5078 - val_accuracy: 0.6267\n",
      "Epoch 63/100\n",
      "2/2 [==============================] - 0s 53ms/step - loss: 469.6683 - accuracy: 0.6696 - val_loss: 1692.5076 - val_accuracy: 0.3733\n",
      "Epoch 64/100\n",
      "2/2 [==============================] - 0s 33ms/step - loss: 2382.1914 - accuracy: 0.3036 - val_loss: 1733.3959 - val_accuracy: 0.3733\n",
      "Epoch 65/100\n",
      "2/2 [==============================] - 0s 32ms/step - loss: 1318.2440 - accuracy: 0.3036 - val_loss: 1176.1846 - val_accuracy: 0.6267\n",
      "Epoch 66/100\n",
      "2/2 [==============================] - 0s 30ms/step - loss: 1476.4232 - accuracy: 0.6964 - val_loss: 2716.5249 - val_accuracy: 0.6267\n",
      "Epoch 67/100\n",
      "2/2 [==============================] - 0s 56ms/step - loss: 2663.4587 - accuracy: 0.6964 - val_loss: 3064.5178 - val_accuracy: 0.6267\n",
      "Epoch 68/100\n",
      "2/2 [==============================] - 0s 51ms/step - loss: 2777.5620 - accuracy: 0.6964 - val_loss: 2423.1868 - val_accuracy: 0.6267\n",
      "Epoch 69/100\n",
      "2/2 [==============================] - 0s 57ms/step - loss: 2007.8689 - accuracy: 0.6964 - val_loss: 1016.8191 - val_accuracy: 0.6267\n",
      "Epoch 70/100\n",
      "2/2 [==============================] - 0s 52ms/step - loss: 608.3808 - accuracy: 0.6875 - val_loss: 1852.3007 - val_accuracy: 0.3733\n",
      "Epoch 71/100\n",
      "2/2 [==============================] - 0s 52ms/step - loss: 2613.0525 - accuracy: 0.3036 - val_loss: 2194.9224 - val_accuracy: 0.3733\n",
      "Epoch 72/100\n",
      "2/2 [==============================] - 0s 53ms/step - loss: 1972.9481 - accuracy: 0.3036 - val_loss: 740.9001 - val_accuracy: 0.6267\n",
      "Epoch 73/100\n",
      "2/2 [==============================] - 0s 52ms/step - loss: 996.3927 - accuracy: 0.6964 - val_loss: 2114.6736 - val_accuracy: 0.6267\n",
      "Epoch 74/100\n",
      "2/2 [==============================] - 0s 49ms/step - loss: 2073.5701 - accuracy: 0.6964 - val_loss: 2352.3030 - val_accuracy: 0.6267\n",
      "Epoch 75/100\n",
      "2/2 [==============================] - 0s 50ms/step - loss: 2094.0503 - accuracy: 0.6964 - val_loss: 1647.5056 - val_accuracy: 0.6267\n",
      "Epoch 76/100\n",
      "2/2 [==============================] - 0s 49ms/step - loss: 1280.7301 - accuracy: 0.6964 - val_loss: 162.2242 - val_accuracy: 0.6267\n",
      "Epoch 77/100\n",
      "2/2 [==============================] - 0s 51ms/step - loss: 920.8615 - accuracy: 0.5089 - val_loss: 2059.2161 - val_accuracy: 0.3733\n",
      "Epoch 78/100\n",
      "2/2 [==============================] - 0s 49ms/step - loss: 2221.7502 - accuracy: 0.3036 - val_loss: 73.2933 - val_accuracy: 0.3733\n",
      "Epoch 79/100\n",
      "2/2 [==============================] - 0s 47ms/step - loss: 399.6891 - accuracy: 0.5536 - val_loss: 2019.0024 - val_accuracy: 0.6267\n",
      "Epoch 80/100\n",
      "2/2 [==============================] - 0s 53ms/step - loss: 2052.8420 - accuracy: 0.6964 - val_loss: 2834.3396 - val_accuracy: 0.6267\n",
      "Epoch 81/100\n",
      "2/2 [==============================] - 0s 51ms/step - loss: 2649.2600 - accuracy: 0.6964 - val_loss: 2641.3914 - val_accuracy: 0.6267\n",
      "Epoch 82/100\n",
      "2/2 [==============================] - 0s 33ms/step - loss: 2321.3354 - accuracy: 0.6964 - val_loss: 1580.3007 - val_accuracy: 0.6267\n",
      "Epoch 83/100\n",
      "2/2 [==============================] - 0s 51ms/step - loss: 1161.2040 - accuracy: 0.6964 - val_loss: 216.7607 - val_accuracy: 0.3733\n",
      "Epoch 84/100\n",
      "2/2 [==============================] - 0s 48ms/step - loss: 507.1821 - accuracy: 0.3036 - val_loss: 195.5721 - val_accuracy: 0.3733\n",
      "Epoch 85/100\n",
      "2/2 [==============================] - 0s 31ms/step - loss: 366.8780 - accuracy: 0.4911 - val_loss: 1201.6869 - val_accuracy: 0.6267\n",
      "Epoch 86/100\n",
      "2/2 [==============================] - 0s 53ms/step - loss: 1241.1178 - accuracy: 0.6964 - val_loss: 1431.8350 - val_accuracy: 0.6267\n",
      "Epoch 87/100\n",
      "2/2 [==============================] - 0s 53ms/step - loss: 1230.2826 - accuracy: 0.6964 - val_loss: 699.5707 - val_accuracy: 0.6267\n",
      "Epoch 88/100\n",
      "2/2 [==============================] - 0s 36ms/step - loss: 377.6043 - accuracy: 0.6920 - val_loss: 1358.1786 - val_accuracy: 0.3733\n",
      "Epoch 89/100\n",
      "2/2 [==============================] - 0s 49ms/step - loss: 1788.8440 - accuracy: 0.3036 - val_loss: 968.4984 - val_accuracy: 0.3733\n",
      "Epoch 90/100\n",
      "2/2 [==============================] - 0s 46ms/step - loss: 762.1796 - accuracy: 0.4911 - val_loss: 871.6140 - val_accuracy: 0.6267\n",
      "Epoch 91/100\n",
      "2/2 [==============================] - 0s 57ms/step - loss: 917.7626 - accuracy: 0.6964 - val_loss: 1146.0383 - val_accuracy: 0.6267\n",
      "Epoch 92/100\n",
      "2/2 [==============================] - 0s 54ms/step - loss: 977.6261 - accuracy: 0.6964 - val_loss: 497.5430 - val_accuracy: 0.6267\n",
      "Epoch 93/100\n",
      "2/2 [==============================] - 0s 33ms/step - loss: 314.3727 - accuracy: 0.5625 - val_loss: 251.0209 - val_accuracy: 0.3733\n",
      "Epoch 94/100\n",
      "2/2 [==============================] - 0s 54ms/step - loss: 317.9525 - accuracy: 0.4643 - val_loss: 592.4888 - val_accuracy: 0.6267\n",
      "Epoch 95/100\n",
      "2/2 [==============================] - 0s 56ms/step - loss: 538.5670 - accuracy: 0.6964 - val_loss: 303.0391 - val_accuracy: 0.6267\n",
      "Epoch 96/100\n",
      "2/2 [==============================] - 0s 53ms/step - loss: 249.7731 - accuracy: 0.5446 - val_loss: 16.1067 - val_accuracy: 0.6400\n",
      "Epoch 97/100\n",
      "2/2 [==============================] - 0s 57ms/step - loss: 25.1756 - accuracy: 0.6518 - val_loss: 266.8846 - val_accuracy: 0.3733\n",
      "Epoch 98/100\n",
      "2/2 [==============================] - 0s 52ms/step - loss: 295.1575 - accuracy: 0.4554 - val_loss: 323.7801 - val_accuracy: 0.6267\n",
      "Epoch 99/100\n",
      "2/2 [==============================] - 0s 54ms/step - loss: 243.4658 - accuracy: 0.6964 - val_loss: 322.1015 - val_accuracy: 0.3733\n",
      "Epoch 100/100\n",
      "2/2 [==============================] - 0s 58ms/step - loss: 224.0503 - accuracy: 0.4152 - val_loss: 152.9396 - val_accuracy: 0.6267\n"
     ]
    }
   ],
   "source": [
    "cover_model = tf.keras.models.Sequential()\n",
    "\n",
    "cover_model.add(tf.keras.layers.Dense(units=64, activation='relu', input_shape=(X_train.shape[1],)))\n",
    "cover_model.add(tf.keras.layers.Dense(units=64, activation='relu'))\n",
    "cover_model.add(tf.keras.layers.Dense(units=8, activation='softmax'))\n",
    "\n",
    "cover_model.compile(optimizer='adam', loss='sparse_categorical_crossentropy', metrics=['accuracy'])\n",
    "history=cover_model.fit(X_train, y_train, batch_size=128, epochs=100, verbose=1, validation_data=(X_test, y_test))\n",
    "loss, accuracy = cover_model.evaluate(X_test,y_test, verbose=0)"
   ]
  },
  {
   "cell_type": "code",
   "execution_count": 21,
   "id": "0be4f4b4",
   "metadata": {
    "execution": {
     "iopub.execute_input": "2022-05-24T19:35:52.260611Z",
     "iopub.status.busy": "2022-05-24T19:35:52.260223Z",
     "iopub.status.idle": "2022-05-24T19:35:52.454271Z",
     "shell.execute_reply": "2022-05-24T19:35:52.453195Z"
    },
    "papermill": {
     "duration": 0.35452,
     "end_time": "2022-05-24T19:35:52.456266",
     "exception": false,
     "start_time": "2022-05-24T19:35:52.101746",
     "status": "completed"
    },
    "tags": []
   },
   "outputs": [
    {
     "data": {
      "image/png": "[encoded data removed]",
      "text/plain": [
       "<Figure size 432x288 with 1 Axes>"
      ]
     },
     "metadata": {},
     "output_type": "display_data"
    }
   ],
   "source": [
    "plt.subplot(212)\n",
    "plt.title('Accuracy')\n",
    "plt.plot(history.history['accuracy'], label='train')\n",
    "plt.plot(history.history['val_accuracy'], label='test')\n",
    "plt.legend()\n",
    "plt.show()\n"
   ]
  }
 ],
 "metadata": {
  "kernelspec": {
   "display_name": "Python 3",
   "language": "python",
   "name": "python3"
  },
  "language_info": {
   "codemirror_mode": {
    "name": "ipython",
    "version": 3
   },
   "file_extension": ".py",
   "mimetype": "text/x-python",
   "name": "python",
   "nbconvert_exporter": "python",
   "pygments_lexer": "ipython3",
   "version": "3.7.12"
  },
  "papermill": {
   "default_parameters": {},
   "duration": 37.044021,
   "end_time": "2022-05-24T19:35:55.366797",
   "environment_variables": {},
   "exception": null,
   "input_path": "__notebook__.ipynb",
   "output_path": "__notebook__.ipynb",
   "parameters": {},
   "start_time": "2022-05-24T19:35:18.322776",
   "version": "2.3.4"
  }
 },
 "nbformat": 4,
 "nbformat_minor": 5
}
